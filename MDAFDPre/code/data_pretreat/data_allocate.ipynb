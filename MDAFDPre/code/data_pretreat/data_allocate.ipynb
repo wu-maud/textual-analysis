{
 "cells": [
  {
   "cell_type": "markdown",
   "metadata": {},
   "source": [
    "# Data Allocate\n",
    "    为了得到训练数据，要得到csv分发给数据标注人员。这部分代码用于将data_clean 之后的csv文件随机抽取想要\n",
    "    的数目，并复制三份，然后复制后的文件分发给8个数据标注人员，要求每个人得到不同的待标注文件。"
   ]
  },
  {
   "cell_type": "code",
   "execution_count": 2,
   "metadata": {},
   "outputs": [],
   "source": [
    "import shutil \n",
    "import random\n",
    "import os\n",
    "from_path_mda=\"../../mid_data/untagged_mda\"\n",
    "from_path_audit=\"../../mid_data/untagged_audit\"\n",
    "to_path=\"../../mid_data/waiting_to_allocate\"\n",
    "\n",
    "'''the number of total mda csv'''\n",
    "mda_total=3780\n",
    "'''the number of total audit csv'''\n",
    "audit_total=269\n",
    "'''the number of files you want to sample from mda csv '''\n",
    "mda_num=80\n",
    "'''the number of files you want to sample from mda csv''' \n",
    "audit_num=0\n",
    "\n",
    "if not os.path.exists(to_path):\n",
    "    os.makedirs(to_path)"
   ]
  },
  {
   "cell_type": "markdown",
   "metadata": {},
   "source": [
    "# Random Select"
   ]
  },
  {
   "cell_type": "code",
   "execution_count": 7,
   "metadata": {
    "collapsed": true
   },
   "outputs": [],
   "source": [
    "mda_num_tmp=mda_num\n",
    "while(mda_num_tmp):\n",
    "    rand_num=random.randint(0, mda_total-1)\n",
    "    from_path=os.path.join(from_path_mda,\"mda_sentence\"+str(rand_num)+\".csv\")\n",
    "    #print(from_path)\n",
    "    if os.path.exists(from_path):\n",
    "        #print(os.path.join(to_path,\"sentence\"+str(rand_num)+\".csv\"))\n",
    "        shutil.copy(from_path, to_path)\n",
    "        mda_num_tmp -=1\n",
    "\n",
    "audit_num_tmp=audit_num\n",
    "while(audit_num_tmp):\n",
    "    rand_num=random.randint(0, audit_total-1)\n",
    "    from_path=os.path.join(from_path_audit,\"audit_sentence\"+str(rand_num)+\".csv\")\n",
    "   #print(from_path)\n",
    "    if os.path.exists(from_path):\n",
    "        #print(os.path.join(to_path,\"audit_sentence\"+str(rand_num)+\".csv\"))\n",
    "        shutil.copy(from_path, to_path)\n",
    "        audit_num_tmp -=1\n",
    " "
   ]
  },
  {
   "cell_type": "markdown",
   "metadata": {},
   "source": [
    "# Allocate"
   ]
  },
  {
   "cell_type": "code",
   "execution_count": 8,
   "metadata": {
    "collapsed": true
   },
   "outputs": [],
   "source": [
    "\n",
    "people_num=8\n",
    "\n",
    "num=0\n",
    "p=0\n",
    "\n",
    "for file in os.listdir(to_path):\n",
    "    for i in range(3):\n",
    "        write_file_name=file[:-4]+\"_\"+str(i)+\".csv\"\n",
    "        data_path=\"../../mid_data/sentence_allocate/\"+chr(p%8+ord('A'))+\"7\"\n",
    "        if not os.path.exists(data_path):\n",
    "            os.makedirs(data_path)\n",
    "        allocate_from=os.path.join(to_path,file)\n",
    "        allocate_to=os.path.join(data_path,write_file_name)\n",
    "        shutil.copy(allocate_from,allocate_to)\n",
    "        p+=1\n",
    "    "
   ]
  },
  {
   "cell_type": "code",
   "execution_count": null,
   "metadata": {
    "collapsed": true
   },
   "outputs": [],
   "source": []
  }
 ],
 "metadata": {
  "kernelspec": {
   "display_name": "Python 3",
   "language": "python",
   "name": "python3"
  },
  "language_info": {
   "codemirror_mode": {
    "name": "ipython",
    "version": 3
   },
   "file_extension": ".py",
   "mimetype": "text/x-python",
   "name": "python",
   "nbconvert_exporter": "python",
   "pygments_lexer": "ipython3",
   "version": "3.5.4"
  }
 },
 "nbformat": 4,
 "nbformat_minor": 2
}
